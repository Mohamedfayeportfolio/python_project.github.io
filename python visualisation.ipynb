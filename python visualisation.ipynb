{
 "cells": [
  {
   "cell_type": "code",
   "execution_count": 2,
   "id": "a108c344-1c5a-465d-9a3a-b10f06f00d44",
   "metadata": {},
   "outputs": [],
   "source": [
    "import pandas as pd "
   ]
  },
  {
   "cell_type": "code",
   "execution_count": 67,
   "id": "a0983976-1a59-4549-a272-912c209303d2",
   "metadata": {},
   "outputs": [],
   "source": [
    "df= pd.read_csv('data (1).csv')"
   ]
  },
  {
   "cell_type": "code",
   "execution_count": 68,
   "id": "875293d0-f70d-4de5-b118-d5297f0c49a9",
   "metadata": {},
   "outputs": [
    {
     "data": {
      "text/html": [
       "<div>\n",
       "<style scoped>\n",
       "    .dataframe tbody tr th:only-of-type {\n",
       "        vertical-align: middle;\n",
       "    }\n",
       "\n",
       "    .dataframe tbody tr th {\n",
       "        vertical-align: top;\n",
       "    }\n",
       "\n",
       "    .dataframe thead th {\n",
       "        text-align: right;\n",
       "    }\n",
       "</style>\n",
       "<table border=\"1\" class=\"dataframe\">\n",
       "  <thead>\n",
       "    <tr style=\"text-align: right;\">\n",
       "      <th></th>\n",
       "      <th>id</th>\n",
       "      <th>date</th>\n",
       "      <th>first_name</th>\n",
       "      <th>last_name</th>\n",
       "      <th>email</th>\n",
       "      <th>gender</th>\n",
       "      <th>ip_address</th>\n",
       "      <th>country</th>\n",
       "      <th>price_paid</th>\n",
       "      <th>tax</th>\n",
       "    </tr>\n",
       "  </thead>\n",
       "  <tbody>\n",
       "    <tr>\n",
       "      <th>0</th>\n",
       "      <td>1</td>\n",
       "      <td>03/28/2021</td>\n",
       "      <td>Marylin</td>\n",
       "      <td>Alders</td>\n",
       "      <td>malders0@shop-pro.jp</td>\n",
       "      <td>Male</td>\n",
       "      <td>160.119.8.119</td>\n",
       "      <td>Canada</td>\n",
       "      <td>$5.36</td>\n",
       "      <td>NaN</td>\n",
       "    </tr>\n",
       "    <tr>\n",
       "      <th>1</th>\n",
       "      <td>2</td>\n",
       "      <td>03/19/2021</td>\n",
       "      <td>Hinda</td>\n",
       "      <td>Harridge</td>\n",
       "      <td>hharridge1@gnu.org</td>\n",
       "      <td>Female</td>\n",
       "      <td>210.51.172.132</td>\n",
       "      <td>Canada</td>\n",
       "      <td>$8.32</td>\n",
       "      <td>NaN</td>\n",
       "    </tr>\n",
       "    <tr>\n",
       "      <th>2</th>\n",
       "      <td>3</td>\n",
       "      <td>03/17/2021</td>\n",
       "      <td>Erl</td>\n",
       "      <td>Kilminster</td>\n",
       "      <td>ekilminster2@etsy.com</td>\n",
       "      <td>Male</td>\n",
       "      <td>213.8.101.145</td>\n",
       "      <td>United States</td>\n",
       "      <td>$3.73</td>\n",
       "      <td>20.0</td>\n",
       "    </tr>\n",
       "    <tr>\n",
       "      <th>3</th>\n",
       "      <td>4</td>\n",
       "      <td>03/19/2021</td>\n",
       "      <td>Grata</td>\n",
       "      <td>Brantl</td>\n",
       "      <td>gbrantl3@umn.edu</td>\n",
       "      <td>Female</td>\n",
       "      <td>5.140.237.101</td>\n",
       "      <td>United States</td>\n",
       "      <td>$3.70</td>\n",
       "      <td>20.0</td>\n",
       "    </tr>\n",
       "    <tr>\n",
       "      <th>4</th>\n",
       "      <td>5</td>\n",
       "      <td>03/24/2021</td>\n",
       "      <td>Kanya</td>\n",
       "      <td>Beasant</td>\n",
       "      <td>kbeasant4@jigsy.com</td>\n",
       "      <td>Male</td>\n",
       "      <td>106.252.162.233</td>\n",
       "      <td>Morocco</td>\n",
       "      <td>$9.24</td>\n",
       "      <td>20.0</td>\n",
       "    </tr>\n",
       "    <tr>\n",
       "      <th>...</th>\n",
       "      <td>...</td>\n",
       "      <td>...</td>\n",
       "      <td>...</td>\n",
       "      <td>...</td>\n",
       "      <td>...</td>\n",
       "      <td>...</td>\n",
       "      <td>...</td>\n",
       "      <td>...</td>\n",
       "      <td>...</td>\n",
       "      <td>...</td>\n",
       "    </tr>\n",
       "    <tr>\n",
       "      <th>995</th>\n",
       "      <td>996</td>\n",
       "      <td>03/24/2021</td>\n",
       "      <td>Duff</td>\n",
       "      <td>Errigo</td>\n",
       "      <td>derrigorn@elpais.com</td>\n",
       "      <td>Female</td>\n",
       "      <td>193.84.247.144</td>\n",
       "      <td>France</td>\n",
       "      <td>$3.63</td>\n",
       "      <td>NaN</td>\n",
       "    </tr>\n",
       "    <tr>\n",
       "      <th>996</th>\n",
       "      <td>997</td>\n",
       "      <td>03/17/2021</td>\n",
       "      <td>Ame</td>\n",
       "      <td>Rastall</td>\n",
       "      <td>arastallro@toplist.cz</td>\n",
       "      <td>Female</td>\n",
       "      <td>188.219.12.109</td>\n",
       "      <td>NaN</td>\n",
       "      <td>$4.59</td>\n",
       "      <td>20.0</td>\n",
       "    </tr>\n",
       "    <tr>\n",
       "      <th>997</th>\n",
       "      <td>998</td>\n",
       "      <td>03/13/2021</td>\n",
       "      <td>Betty</td>\n",
       "      <td>Stickels</td>\n",
       "      <td>bstickelsrp@cloudflare.com</td>\n",
       "      <td>Male</td>\n",
       "      <td>199.80.60.87</td>\n",
       "      <td>United States</td>\n",
       "      <td>$7.54</td>\n",
       "      <td>20.0</td>\n",
       "    </tr>\n",
       "    <tr>\n",
       "      <th>998</th>\n",
       "      <td>999</td>\n",
       "      <td>03/17/2021</td>\n",
       "      <td>Paquito</td>\n",
       "      <td>Tesoe</td>\n",
       "      <td>ptesoerq@rakuten.co.jp</td>\n",
       "      <td>Male</td>\n",
       "      <td>0.183.63.11</td>\n",
       "      <td>United States</td>\n",
       "      <td>$5.81</td>\n",
       "      <td>NaN</td>\n",
       "    </tr>\n",
       "    <tr>\n",
       "      <th>999</th>\n",
       "      <td>1000</td>\n",
       "      <td>03/23/2021</td>\n",
       "      <td>Rochelle</td>\n",
       "      <td>Pringuer</td>\n",
       "      <td>rpringuerrr@house.gov</td>\n",
       "      <td>NaN</td>\n",
       "      <td>170.193.249.83</td>\n",
       "      <td>Canada</td>\n",
       "      <td>$8.01</td>\n",
       "      <td>20.0</td>\n",
       "    </tr>\n",
       "  </tbody>\n",
       "</table>\n",
       "<p>1000 rows × 10 columns</p>\n",
       "</div>"
      ],
      "text/plain": [
       "       id        date first_name   last_name                       email  \\\n",
       "0       1  03/28/2021    Marylin      Alders        malders0@shop-pro.jp   \n",
       "1       2  03/19/2021      Hinda    Harridge          hharridge1@gnu.org   \n",
       "2       3  03/17/2021        Erl  Kilminster       ekilminster2@etsy.com   \n",
       "3       4  03/19/2021      Grata      Brantl            gbrantl3@umn.edu   \n",
       "4       5  03/24/2021      Kanya     Beasant         kbeasant4@jigsy.com   \n",
       "..    ...         ...        ...         ...                         ...   \n",
       "995   996  03/24/2021       Duff      Errigo        derrigorn@elpais.com   \n",
       "996   997  03/17/2021        Ame     Rastall       arastallro@toplist.cz   \n",
       "997   998  03/13/2021      Betty    Stickels  bstickelsrp@cloudflare.com   \n",
       "998   999  03/17/2021    Paquito       Tesoe      ptesoerq@rakuten.co.jp   \n",
       "999  1000  03/23/2021   Rochelle    Pringuer       rpringuerrr@house.gov   \n",
       "\n",
       "     gender       ip_address        country price_paid   tax  \n",
       "0      Male    160.119.8.119         Canada      $5.36   NaN  \n",
       "1    Female   210.51.172.132         Canada      $8.32   NaN  \n",
       "2      Male    213.8.101.145  United States      $3.73  20.0  \n",
       "3    Female    5.140.237.101  United States      $3.70  20.0  \n",
       "4      Male  106.252.162.233        Morocco      $9.24  20.0  \n",
       "..      ...              ...            ...        ...   ...  \n",
       "995  Female   193.84.247.144         France      $3.63   NaN  \n",
       "996  Female   188.219.12.109            NaN      $4.59  20.0  \n",
       "997    Male     199.80.60.87  United States      $7.54  20.0  \n",
       "998    Male      0.183.63.11  United States      $5.81   NaN  \n",
       "999     NaN   170.193.249.83         Canada      $8.01  20.0  \n",
       "\n",
       "[1000 rows x 10 columns]"
      ]
     },
     "execution_count": 68,
     "metadata": {},
     "output_type": "execute_result"
    }
   ],
   "source": [
    "df"
   ]
  },
  {
   "cell_type": "code",
   "execution_count": 6,
   "id": "a632a0e1-8b8e-403a-9ff1-99cd14ae5f7e",
   "metadata": {},
   "outputs": [
    {
     "data": {
      "text/html": [
       "<div>\n",
       "<style scoped>\n",
       "    .dataframe tbody tr th:only-of-type {\n",
       "        vertical-align: middle;\n",
       "    }\n",
       "\n",
       "    .dataframe tbody tr th {\n",
       "        vertical-align: top;\n",
       "    }\n",
       "\n",
       "    .dataframe thead th {\n",
       "        text-align: right;\n",
       "    }\n",
       "</style>\n",
       "<table border=\"1\" class=\"dataframe\">\n",
       "  <thead>\n",
       "    <tr style=\"text-align: right;\">\n",
       "      <th></th>\n",
       "      <th>id</th>\n",
       "      <th>tax</th>\n",
       "    </tr>\n",
       "  </thead>\n",
       "  <tbody>\n",
       "    <tr>\n",
       "      <th>count</th>\n",
       "      <td>1000.000000</td>\n",
       "      <td>654.0</td>\n",
       "    </tr>\n",
       "    <tr>\n",
       "      <th>mean</th>\n",
       "      <td>500.500000</td>\n",
       "      <td>20.0</td>\n",
       "    </tr>\n",
       "    <tr>\n",
       "      <th>std</th>\n",
       "      <td>288.819436</td>\n",
       "      <td>0.0</td>\n",
       "    </tr>\n",
       "    <tr>\n",
       "      <th>min</th>\n",
       "      <td>1.000000</td>\n",
       "      <td>20.0</td>\n",
       "    </tr>\n",
       "    <tr>\n",
       "      <th>25%</th>\n",
       "      <td>250.750000</td>\n",
       "      <td>20.0</td>\n",
       "    </tr>\n",
       "    <tr>\n",
       "      <th>50%</th>\n",
       "      <td>500.500000</td>\n",
       "      <td>20.0</td>\n",
       "    </tr>\n",
       "    <tr>\n",
       "      <th>75%</th>\n",
       "      <td>750.250000</td>\n",
       "      <td>20.0</td>\n",
       "    </tr>\n",
       "    <tr>\n",
       "      <th>max</th>\n",
       "      <td>1000.000000</td>\n",
       "      <td>20.0</td>\n",
       "    </tr>\n",
       "  </tbody>\n",
       "</table>\n",
       "</div>"
      ],
      "text/plain": [
       "                id    tax\n",
       "count  1000.000000  654.0\n",
       "mean    500.500000   20.0\n",
       "std     288.819436    0.0\n",
       "min       1.000000   20.0\n",
       "25%     250.750000   20.0\n",
       "50%     500.500000   20.0\n",
       "75%     750.250000   20.0\n",
       "max    1000.000000   20.0"
      ]
     },
     "execution_count": 6,
     "metadata": {},
     "output_type": "execute_result"
    }
   ],
   "source": [
    "df.describe()"
   ]
  },
  {
   "cell_type": "code",
   "execution_count": 69,
   "id": "f36ab83d-570c-4679-9dba-18dc2d18fd57",
   "metadata": {},
   "outputs": [
    {
     "data": {
      "text/plain": [
       "count      1000\n",
       "unique      528\n",
       "top       $3.73\n",
       "freq          8\n",
       "Name: price_paid, dtype: object"
      ]
     },
     "execution_count": 69,
     "metadata": {},
     "output_type": "execute_result"
    }
   ],
   "source": [
    "df['price_paid'].describe()"
   ]
  },
  {
   "cell_type": "code",
   "execution_count": 11,
   "id": "6c42dd0c-9749-48bf-bb8c-80acac4301fe",
   "metadata": {},
   "outputs": [],
   "source": [
    "#calcule statistiques"
   ]
  },
  {
   "cell_type": "code",
   "execution_count": null,
   "id": "de6a8d7c-4209-476c-bdaf-9bd27837865c",
   "metadata": {},
   "outputs": [],
   "source": [
    "#calculons la moyennes de price_paid"
   ]
  },
  {
   "cell_type": "code",
   "execution_count": 70,
   "id": "d695921f-96d1-4711-81ed-9e1c9419619f",
   "metadata": {},
   "outputs": [],
   "source": [
    "df.price_paid = df.price_paid.apply(lambda x: x.replace('$', ''))\n",
    "df.price_paid = df.price_paid.astype(float)"
   ]
  },
  {
   "cell_type": "code",
   "execution_count": 15,
   "id": "578fd627-724f-458e-8e29-3bc67df13b20",
   "metadata": {},
   "outputs": [
    {
     "data": {
      "text/plain": [
       "6.461930000000001"
      ]
     },
     "execution_count": 15,
     "metadata": {},
     "output_type": "execute_result"
    }
   ],
   "source": [
    "df['price_paid'].mean()"
   ]
  },
  {
   "cell_type": "code",
   "execution_count": null,
   "id": "c7d4640e-36db-4b71-93dc-88fe0ac7a9f5",
   "metadata": {},
   "outputs": [],
   "source": [
    "#somme"
   ]
  },
  {
   "cell_type": "code",
   "execution_count": 72,
   "id": "7a78f793-cc28-4c0e-8200-31764a16b36b",
   "metadata": {},
   "outputs": [
    {
     "data": {
      "text/plain": [
       "6461.93"
      ]
     },
     "execution_count": 72,
     "metadata": {},
     "output_type": "execute_result"
    }
   ],
   "source": [
    "df['price_paid'].sum()"
   ]
  },
  {
   "cell_type": "code",
   "execution_count": null,
   "id": "0c43b878-735e-4bd9-a0cb-d7172da28a10",
   "metadata": {},
   "outputs": [],
   "source": [
    "#autres calcules"
   ]
  },
  {
   "cell_type": "code",
   "execution_count": 17,
   "id": "b7ca8789-d855-4af4-b50c-57089256aedf",
   "metadata": {},
   "outputs": [
    {
     "data": {
      "text/plain": [
       "3.0"
      ]
     },
     "execution_count": 17,
     "metadata": {},
     "output_type": "execute_result"
    }
   ],
   "source": [
    "df['price_paid'].min()"
   ]
  },
  {
   "cell_type": "code",
   "execution_count": 18,
   "id": "670b70fa-280d-40e0-bdf6-6aceb879d70a",
   "metadata": {},
   "outputs": [
    {
     "data": {
      "text/plain": [
       "10.0"
      ]
     },
     "execution_count": 18,
     "metadata": {},
     "output_type": "execute_result"
    }
   ],
   "source": [
    "df['price_paid'].max()"
   ]
  },
  {
   "cell_type": "code",
   "execution_count": null,
   "id": "6b25cb57-4cff-4c9d-802f-b867b504de3e",
   "metadata": {},
   "outputs": [],
   "source": [
    "#unique "
   ]
  },
  {
   "cell_type": "code",
   "execution_count": 73,
   "id": "e8162c28-eec6-43a9-92ff-633156410691",
   "metadata": {},
   "outputs": [
    {
     "data": {
      "text/plain": [
       "array(['Canada', 'United States', 'Morocco', 'France', nan], dtype=object)"
      ]
     },
     "execution_count": 73,
     "metadata": {},
     "output_type": "execute_result"
    }
   ],
   "source": [
    "df['country'].unique()"
   ]
  },
  {
   "cell_type": "code",
   "execution_count": 54,
   "id": "f3a2e317-1910-4c8a-aff2-b0ea3f850e1c",
   "metadata": {},
   "outputs": [
    {
     "data": {
      "text/plain": [
       "array(['$5.36', '$8.32', '$3.73', '$3.70', '$9.24', '$5.82', '$6.29',\n",
       "       '$3.01', '$9.05', '$5.71', '$3.15', '$5.30', '$5.97', '$4.53',\n",
       "       '$4.10', '$6.44', '$3.16', '$4.90', '$5.55', '$4.86', '$6.72',\n",
       "       '$9.79', '$8.23', '$9.90', '$5.88', '$3.06', '$9.52', '$6.76',\n",
       "       '$7.81', '$6.02', '$5.00', '$5.34', '$4.67', '$6.22', '$3.37',\n",
       "       '$9.50', '$4.54', '$4.04', '$3.45', '$4.96', '$5.29', '$8.11',\n",
       "       '$7.80', '$4.21', '$9.81', '$9.70', '$9.71', '$3.88', '$3.40',\n",
       "       '$9.23', '$6.57', '$9.99', '$6.94', '$4.26', '$9.13', '$6.66',\n",
       "       '$9.35', '$3.04', '$6.17', '$7.68', '$4.23', '$4.69', '$7.56',\n",
       "       '$5.92', '$4.65', '$6.79', '$8.71', '$8.96', '$4.39', '$7.54',\n",
       "       '$5.83', '$6.39', '$9.60', '$9.68', '$9.86', '$5.53', '$3.51',\n",
       "       '$8.43', '$6.89', '$6.68', '$4.66', '$4.95', '$6.77', '$7.48',\n",
       "       '$7.23', '$8.12', '$5.80', '$6.06', '$4.71', '$7.78', '$9.67',\n",
       "       '$9.93', '$4.56', '$4.42', '$4.12', '$4.32', '$8.83', '$3.18',\n",
       "       '$8.86', '$7.20', '$3.72', '$7.67', '$8.68', '$9.58', '$7.91',\n",
       "       '$7.65', '$8.77', '$7.17', '$9.47', '$8.97', '$6.07', '$9.89',\n",
       "       '$8.85', '$9.37', '$7.03', '$5.90', '$4.00', '$6.88', '$8.75',\n",
       "       '$3.03', '$6.64', '$8.65', '$5.98', '$8.69', '$4.46', '$4.24',\n",
       "       '$8.79', '$4.82', '$8.16', '$7.19', '$5.87', '$7.05', '$3.93',\n",
       "       '$5.33', '$6.09', '$5.72', '$3.12', '$8.45', '$6.86', '$4.74',\n",
       "       '$7.98', '$8.70', '$4.57', '$4.38', '$6.80', '$6.53', '$7.27',\n",
       "       '$7.75', '$3.95', '$10.00', '$6.96', '$6.58', '$5.56', '$6.31',\n",
       "       '$5.49', '$6.71', '$6.93', '$4.92', '$9.02', '$5.91', '$9.27',\n",
       "       '$4.97', '$7.02', '$3.10', '$4.25', '$6.16', '$4.47', '$6.73',\n",
       "       '$9.32', '$7.41', '$9.51', '$8.88', '$5.47', '$4.20', '$9.38',\n",
       "       '$7.44', '$9.10', '$6.24', '$4.43', '$3.21', '$8.82', '$5.68',\n",
       "       '$6.14', '$7.32', '$8.62', '$5.75', '$3.96', '$8.21', '$3.52',\n",
       "       '$8.22', '$9.45', '$7.82', '$3.05', '$4.61', '$7.83', '$7.88',\n",
       "       '$4.48', '$4.40', '$8.37', '$6.21', '$9.16', '$3.34', '$8.24',\n",
       "       '$3.23', '$9.30', '$7.62', '$8.74', '$8.63', '$3.78', '$8.15',\n",
       "       '$3.87', '$9.33', '$8.02', '$8.61', '$3.17', '$9.83', '$4.44',\n",
       "       '$3.29', '$6.11', '$4.93', '$6.05', '$5.63', '$9.98', '$5.84',\n",
       "       '$8.19', '$3.81', '$5.86', '$8.84', '$3.33', '$8.89', '$8.34',\n",
       "       '$6.47', '$8.66', '$9.57', '$3.48', '$7.71', '$8.27', '$3.63',\n",
       "       '$8.28', '$7.04', '$3.84', '$5.21', '$8.33', '$9.12', '$3.09',\n",
       "       '$9.19', '$8.25', '$9.92', '$3.79', '$8.31', '$9.43', '$7.72',\n",
       "       '$3.44', '$4.18', '$7.12', '$7.13', '$4.84', '$7.30', '$7.89',\n",
       "       '$9.04', '$4.03', '$4.98', '$6.70', '$4.34', '$6.32', '$5.06',\n",
       "       '$9.31', '$4.30', '$3.56', '$8.41', '$6.49', '$7.18', '$6.75',\n",
       "       '$4.72', '$3.68', '$3.60', '$9.85', '$9.88', '$6.46', '$7.93',\n",
       "       '$3.53', '$7.79', '$4.16', '$5.54', '$5.35', '$4.91', '$6.50',\n",
       "       '$6.84', '$8.17', '$3.27', '$5.27', '$5.62', '$3.66', '$9.40',\n",
       "       '$5.66', '$9.96', '$4.76', '$6.34', '$8.64', '$5.65', '$5.08',\n",
       "       '$5.50', '$6.60', '$5.45', '$8.95', '$3.08', '$9.97', '$7.38',\n",
       "       '$6.98', '$6.37', '$4.31', '$5.16', '$7.90', '$9.20', '$8.01',\n",
       "       '$7.31', '$7.66', '$8.46', '$3.14', '$6.35', '$3.20', '$8.08',\n",
       "       '$7.28', '$5.57', '$3.49', '$9.18', '$7.22', '$9.06', '$6.55',\n",
       "       '$5.79', '$3.25', '$7.99', '$8.18', '$5.15', '$6.23', '$9.36',\n",
       "       '$5.05', '$3.57', '$9.21', '$7.52', '$3.28', '$8.54', '$3.80',\n",
       "       '$4.51', '$9.75', '$7.14', '$8.40', '$7.08', '$8.49', '$3.02',\n",
       "       '$6.27', '$7.36', '$4.01', '$6.91', '$8.38', '$4.78', '$8.94',\n",
       "       '$8.35', '$7.96', '$7.85', '$8.10', '$6.52', '$6.20', '$4.83',\n",
       "       '$9.08', '$5.32', '$7.16', '$3.38', '$5.61', '$8.80', '$4.22',\n",
       "       '$9.82', '$9.29', '$5.48', '$5.24', '$7.50', '$7.95', '$3.98',\n",
       "       '$3.74', '$4.87', '$3.86', '$4.17', '$3.36', '$5.60', '$6.51',\n",
       "       '$4.55', '$4.36', '$7.45', '$8.55', '$3.77', '$3.46', '$8.92',\n",
       "       '$6.40', '$3.92', '$5.10', '$9.42', '$9.09', '$5.81', '$6.43',\n",
       "       '$6.48', '$6.12', '$6.18', '$3.31', '$8.60', '$6.85', '$4.02',\n",
       "       '$3.35', '$8.42', '$5.89', '$9.72', '$3.61', '$7.39', '$9.84',\n",
       "       '$3.22', '$4.35', '$4.62', '$4.49', '$4.50', '$8.72', '$6.63',\n",
       "       '$4.70', '$6.59', '$3.75', '$5.20', '$3.59', '$7.09', '$5.78',\n",
       "       '$5.26', '$6.62', '$4.88', '$5.40', '$3.94', '$6.99', '$3.91',\n",
       "       '$3.54', '$9.53', '$9.65', '$3.89', '$9.77', '$5.25', '$3.58',\n",
       "       '$9.62', '$3.69', '$4.85', '$3.55', '$5.09', '$4.13', '$3.00',\n",
       "       '$3.41', '$5.69', '$4.79', '$9.95', '$5.76', '$6.87', '$8.44',\n",
       "       '$6.19', '$7.76', '$9.63', '$7.43', '$4.68', '$5.73', '$5.42',\n",
       "       '$7.25', '$9.11', '$5.44', '$5.70', '$9.80', '$5.03', '$6.81',\n",
       "       '$5.18', '$7.34', '$4.05', '$4.27', '$5.37', '$8.90', '$7.51',\n",
       "       '$8.48', '$3.90', '$9.26', '$3.11', '$5.19', '$5.51', '$8.99',\n",
       "       '$4.07', '$9.01', '$8.53', '$6.67', '$6.56', '$6.92', '$9.15',\n",
       "       '$5.67', '$5.96', '$8.09', '$5.11', '$7.40', '$7.33', '$5.43',\n",
       "       '$6.30', '$5.28', '$5.02', '$5.93', '$9.78', '$9.28', '$3.50',\n",
       "       '$9.22', '$6.15', '$9.69', '$7.97', '$5.94', '$9.76', '$3.83',\n",
       "       '$4.73', '$6.95', '$3.32', '$9.03', '$4.64', '$7.59', '$3.30',\n",
       "       '$7.37', '$6.13', '$7.70', '$3.07', '$6.69', '$3.71', '$9.55',\n",
       "       '$4.33', '$6.10', '$4.59'], dtype=object)"
      ]
     },
     "execution_count": 54,
     "metadata": {},
     "output_type": "execute_result"
    }
   ],
   "source": [
    "df['price_paid'].unique()"
   ]
  },
  {
   "cell_type": "code",
   "execution_count": 74,
   "id": "a2205639-e2f5-4e97-b50b-0d269975bbf0",
   "metadata": {},
   "outputs": [
    {
     "data": {
      "text/plain": [
       "country\n",
       "France           408\n",
       "United States    333\n",
       "Canada           161\n",
       "Morocco           54\n",
       "Name: count, dtype: int64"
      ]
     },
     "execution_count": 74,
     "metadata": {},
     "output_type": "execute_result"
    }
   ],
   "source": [
    "df['country'].value_counts()"
   ]
  },
  {
   "cell_type": "code",
   "execution_count": 83,
   "id": "9103ecf4-87ec-45fe-aa77-0e4e64b86852",
   "metadata": {},
   "outputs": [
    {
     "data": {
      "text/plain": [
       "country\n",
       "France           408\n",
       "United States    333\n",
       "Canada           161\n",
       "Morocco           54\n",
       "Name: count, dtype: int64"
      ]
     },
     "execution_count": 83,
     "metadata": {},
     "output_type": "execute_result"
    }
   ],
   "source": [
    "df['country'].value_counts()"
   ]
  },
  {
   "cell_type": "code",
   "execution_count": 76,
   "id": "d59c0511-eade-40b0-93ea-2a4c6b9c22ae",
   "metadata": {},
   "outputs": [
    {
     "data": {
      "text/plain": [
       "gender\n",
       "Female    0.529538\n",
       "Male      0.470462\n",
       "Name: proportion, dtype: float64"
      ]
     },
     "execution_count": 76,
     "metadata": {},
     "output_type": "execute_result"
    }
   ],
   "source": [
    "df['gender'].value_counts(normalize=True)"
   ]
  },
  {
   "cell_type": "code",
   "execution_count": 89,
   "id": "b17b26bb-8f53-45ef-801b-0bee71d7fa9c",
   "metadata": {},
   "outputs": [
    {
     "data": {
      "text/plain": [
       "<pandas.core.groupby.generic.DataFrameGroupBy object at 0x000001A338239490>"
      ]
     },
     "execution_count": 89,
     "metadata": {},
     "output_type": "execute_result"
    }
   ],
   "source": [
    "df.groupby('country')"
   ]
  },
  {
   "cell_type": "code",
   "execution_count": 107,
   "id": "ec902037-6a49-4c57-a3c4-3b796f2385c3",
   "metadata": {},
   "outputs": [
    {
     "data": {
      "text/html": [
       "<div>\n",
       "<style scoped>\n",
       "    .dataframe tbody tr th:only-of-type {\n",
       "        vertical-align: middle;\n",
       "    }\n",
       "\n",
       "    .dataframe tbody tr th {\n",
       "        vertical-align: top;\n",
       "    }\n",
       "\n",
       "    .dataframe thead th {\n",
       "        text-align: right;\n",
       "    }\n",
       "</style>\n",
       "<table border=\"1\" class=\"dataframe\">\n",
       "  <thead>\n",
       "    <tr style=\"text-align: right;\">\n",
       "      <th></th>\n",
       "      <th>id</th>\n",
       "      <th>date</th>\n",
       "      <th>first_name</th>\n",
       "      <th>last_name</th>\n",
       "      <th>email</th>\n",
       "      <th>gender</th>\n",
       "      <th>ip_address</th>\n",
       "      <th>price_paid</th>\n",
       "      <th>tax</th>\n",
       "    </tr>\n",
       "    <tr>\n",
       "      <th>country</th>\n",
       "      <th></th>\n",
       "      <th></th>\n",
       "      <th></th>\n",
       "      <th></th>\n",
       "      <th></th>\n",
       "      <th></th>\n",
       "      <th></th>\n",
       "      <th></th>\n",
       "      <th></th>\n",
       "    </tr>\n",
       "  </thead>\n",
       "  <tbody>\n",
       "    <tr>\n",
       "      <th>Canada</th>\n",
       "      <td>70365</td>\n",
       "      <td>03/28/202103/19/202103/14/202103/09/202103/11/...</td>\n",
       "      <td>MarylinHindaAvaWaylonLiefJaniceSibealMendieMur...</td>\n",
       "      <td>AldersHarridgeKencottHeersemaWoodcraftMorillas...</td>\n",
       "      <td>malders0@shop-pro.jphharridge1@gnu.orgakencott...</td>\n",
       "      <td>MaleFemaleFemaleMaleMaleFemaleMaleMaleMaleMale...</td>\n",
       "      <td>160.119.8.119210.51.172.132118.251.45.4363.242...</td>\n",
       "      <td>1017.45</td>\n",
       "      <td>2160.0</td>\n",
       "    </tr>\n",
       "    <tr>\n",
       "      <th>France</th>\n",
       "      <td>214440</td>\n",
       "      <td>03/08/202103/23/202103/24/202103/16/202103/12/...</td>\n",
       "      <td>CodiGuglielmaCullJudyeJeffreyJilleneTreschaCha...</td>\n",
       "      <td>FeasleyGookesVassieBehanStanmanBaudiMcCuddenGr...</td>\n",
       "      <td>cfeasley7@ed.govggookes9@amazon.co.ukcvassied@...</td>\n",
       "      <td>MaleMaleFemaleFemaleFemaleFemaleMaleMaleFemale...</td>\n",
       "      <td>26.190.191.249169.100.6.018.203.61.9427.196.2....</td>\n",
       "      <td>2619.61</td>\n",
       "      <td>5100.0</td>\n",
       "    </tr>\n",
       "    <tr>\n",
       "      <th>Morocco</th>\n",
       "      <td>26591</td>\n",
       "      <td>03/24/202103/28/202103/22/202103/28/202103/21/...</td>\n",
       "      <td>KanyaTommiToniaPenelopeRandyLayKristalEthelinW...</td>\n",
       "      <td>BeasantDitchburnJacquemeBroodTiebeBouchierKett...</td>\n",
       "      <td>kbeasant4@jigsy.comtditchburnu@bbc.co.uktjacqu...</td>\n",
       "      <td>MaleFemaleMaleMaleFemaleMaleFemaleFemaleMaleFe...</td>\n",
       "      <td>106.252.162.2338.92.173.3865.151.183.165223.23...</td>\n",
       "      <td>362.97</td>\n",
       "      <td>780.0</td>\n",
       "    </tr>\n",
       "    <tr>\n",
       "      <th>United States</th>\n",
       "      <td>168150</td>\n",
       "      <td>03/17/202103/19/202103/25/202103/16/202103/21/...</td>\n",
       "      <td>ErlGrataTitosBailieOralieJulinaEveEstaNobeElys...</td>\n",
       "      <td>KilminsterBrantlBraybrookeWymanMaryonFaintAlla...</td>\n",
       "      <td>ekilminster2@etsy.comgbrantl3@umn.edutbraybroo...</td>\n",
       "      <td>MaleFemaleFemaleMaleFemaleFemaleFemaleFemaleMa...</td>\n",
       "      <td>213.8.101.1455.140.237.101173.100.21.179222.60...</td>\n",
       "      <td>2183.67</td>\n",
       "      <td>4520.0</td>\n",
       "    </tr>\n",
       "  </tbody>\n",
       "</table>\n",
       "</div>"
      ],
      "text/plain": [
       "                   id                                               date  \\\n",
       "country                                                                    \n",
       "Canada          70365  03/28/202103/19/202103/14/202103/09/202103/11/...   \n",
       "France         214440  03/08/202103/23/202103/24/202103/16/202103/12/...   \n",
       "Morocco         26591  03/24/202103/28/202103/22/202103/28/202103/21/...   \n",
       "United States  168150  03/17/202103/19/202103/25/202103/16/202103/21/...   \n",
       "\n",
       "                                                      first_name  \\\n",
       "country                                                            \n",
       "Canada         MarylinHindaAvaWaylonLiefJaniceSibealMendieMur...   \n",
       "France         CodiGuglielmaCullJudyeJeffreyJilleneTreschaCha...   \n",
       "Morocco        KanyaTommiToniaPenelopeRandyLayKristalEthelinW...   \n",
       "United States  ErlGrataTitosBailieOralieJulinaEveEstaNobeElys...   \n",
       "\n",
       "                                                       last_name  \\\n",
       "country                                                            \n",
       "Canada         AldersHarridgeKencottHeersemaWoodcraftMorillas...   \n",
       "France         FeasleyGookesVassieBehanStanmanBaudiMcCuddenGr...   \n",
       "Morocco        BeasantDitchburnJacquemeBroodTiebeBouchierKett...   \n",
       "United States  KilminsterBrantlBraybrookeWymanMaryonFaintAlla...   \n",
       "\n",
       "                                                           email  \\\n",
       "country                                                            \n",
       "Canada         malders0@shop-pro.jphharridge1@gnu.orgakencott...   \n",
       "France         cfeasley7@ed.govggookes9@amazon.co.ukcvassied@...   \n",
       "Morocco        kbeasant4@jigsy.comtditchburnu@bbc.co.uktjacqu...   \n",
       "United States  ekilminster2@etsy.comgbrantl3@umn.edutbraybroo...   \n",
       "\n",
       "                                                          gender  \\\n",
       "country                                                            \n",
       "Canada         MaleFemaleFemaleMaleMaleFemaleMaleMaleMaleMale...   \n",
       "France         MaleMaleFemaleFemaleFemaleFemaleMaleMaleFemale...   \n",
       "Morocco        MaleFemaleMaleMaleFemaleMaleFemaleFemaleMaleFe...   \n",
       "United States  MaleFemaleFemaleMaleFemaleFemaleFemaleFemaleMa...   \n",
       "\n",
       "                                                      ip_address  price_paid  \\\n",
       "country                                                                        \n",
       "Canada         160.119.8.119210.51.172.132118.251.45.4363.242...     1017.45   \n",
       "France         26.190.191.249169.100.6.018.203.61.9427.196.2....     2619.61   \n",
       "Morocco        106.252.162.2338.92.173.3865.151.183.165223.23...      362.97   \n",
       "United States  213.8.101.1455.140.237.101173.100.21.179222.60...     2183.67   \n",
       "\n",
       "                  tax  \n",
       "country                \n",
       "Canada         2160.0  \n",
       "France         5100.0  \n",
       "Morocco         780.0  \n",
       "United States  4520.0  "
      ]
     },
     "execution_count": 107,
     "metadata": {},
     "output_type": "execute_result"
    }
   ],
   "source": [
    "df.groupby('country').sum()"
   ]
  },
  {
   "cell_type": "code",
   "execution_count": 96,
   "id": "96f8ca72-b54b-49b3-988b-3c9a65499078",
   "metadata": {},
   "outputs": [
    {
     "data": {
      "text/plain": [
       "gender\n",
       "Female    6.420406\n",
       "Male      6.469429\n",
       "Name: price_paid, dtype: float64"
      ]
     },
     "execution_count": 96,
     "metadata": {},
     "output_type": "execute_result"
    }
   ],
   "source": [
    "df.groupby('gender')['price_paid'].mean()"
   ]
  },
  {
   "cell_type": "code",
   "execution_count": 98,
   "id": "454ec279-ca16-4c62-b0da-462340b44698",
   "metadata": {},
   "outputs": [
    {
     "data": {
      "text/plain": [
       "gender\n",
       "Female    3165.26\n",
       "Male      2833.61\n",
       "Name: price_paid, dtype: float64"
      ]
     },
     "execution_count": 98,
     "metadata": {},
     "output_type": "execute_result"
    }
   ],
   "source": [
    "df.groupby('gender')['price_paid'].sum()"
   ]
  },
  {
   "cell_type": "code",
   "execution_count": null,
   "id": "f6cfd461-033b-4141-a767-1d67eab7201a",
   "metadata": {},
   "outputs": [],
   "source": [
    "#autres methode"
   ]
  },
  {
   "cell_type": "code",
   "execution_count": 103,
   "id": "d3050e8e-392e-465f-9bca-fd9f693f444e",
   "metadata": {},
   "outputs": [
    {
     "data": {
      "text/html": [
       "<div>\n",
       "<style scoped>\n",
       "    .dataframe tbody tr th:only-of-type {\n",
       "        vertical-align: middle;\n",
       "    }\n",
       "\n",
       "    .dataframe tbody tr th {\n",
       "        vertical-align: top;\n",
       "    }\n",
       "\n",
       "    .dataframe thead th {\n",
       "        text-align: right;\n",
       "    }\n",
       "</style>\n",
       "<table border=\"1\" class=\"dataframe\">\n",
       "  <thead>\n",
       "    <tr style=\"text-align: right;\">\n",
       "      <th></th>\n",
       "      <th></th>\n",
       "      <th>id</th>\n",
       "      <th>date</th>\n",
       "      <th>first_name</th>\n",
       "      <th>last_name</th>\n",
       "      <th>email</th>\n",
       "      <th>ip_address</th>\n",
       "      <th>price_paid</th>\n",
       "      <th>tax</th>\n",
       "    </tr>\n",
       "    <tr>\n",
       "      <th>gender</th>\n",
       "      <th>country</th>\n",
       "      <th></th>\n",
       "      <th></th>\n",
       "      <th></th>\n",
       "      <th></th>\n",
       "      <th></th>\n",
       "      <th></th>\n",
       "      <th></th>\n",
       "      <th></th>\n",
       "    </tr>\n",
       "  </thead>\n",
       "  <tbody>\n",
       "    <tr>\n",
       "      <th rowspan=\"4\" valign=\"top\">Female</th>\n",
       "      <th>Canada</th>\n",
       "      <td>972</td>\n",
       "      <td>03/30/2021</td>\n",
       "      <td>Zilvia</td>\n",
       "      <td>Wybrow</td>\n",
       "      <td>zneichomq@topsy.com</td>\n",
       "      <td>97.53.66.219</td>\n",
       "      <td>9.99</td>\n",
       "      <td>20.0</td>\n",
       "    </tr>\n",
       "    <tr>\n",
       "      <th>France</th>\n",
       "      <td>996</td>\n",
       "      <td>03/30/2021</td>\n",
       "      <td>Zoe</td>\n",
       "      <td>von Hagt</td>\n",
       "      <td>zwhitefoot3y@cbsnews.com</td>\n",
       "      <td>98.20.144.185</td>\n",
       "      <td>10.00</td>\n",
       "      <td>20.0</td>\n",
       "    </tr>\n",
       "    <tr>\n",
       "      <th>Morocco</th>\n",
       "      <td>904</td>\n",
       "      <td>03/29/2021</td>\n",
       "      <td>Willis</td>\n",
       "      <td>Yude</td>\n",
       "      <td>wsandercroft4o@loc.gov</td>\n",
       "      <td>98.223.40.3</td>\n",
       "      <td>10.00</td>\n",
       "      <td>20.0</td>\n",
       "    </tr>\n",
       "    <tr>\n",
       "      <th>United States</th>\n",
       "      <td>989</td>\n",
       "      <td>03/30/2021</td>\n",
       "      <td>Zuzana</td>\n",
       "      <td>Youngman</td>\n",
       "      <td>zhuebnerjj@forbes.com</td>\n",
       "      <td>96.89.102.85</td>\n",
       "      <td>9.97</td>\n",
       "      <td>20.0</td>\n",
       "    </tr>\n",
       "    <tr>\n",
       "      <th rowspan=\"4\" valign=\"top\">Male</th>\n",
       "      <th>Canada</th>\n",
       "      <td>979</td>\n",
       "      <td>03/30/2021</td>\n",
       "      <td>Wilt</td>\n",
       "      <td>Yeend</td>\n",
       "      <td>wyeendc9@umn.edu</td>\n",
       "      <td>97.225.165.142</td>\n",
       "      <td>9.97</td>\n",
       "      <td>20.0</td>\n",
       "    </tr>\n",
       "    <tr>\n",
       "      <th>France</th>\n",
       "      <td>994</td>\n",
       "      <td>03/30/2021</td>\n",
       "      <td>Yalonda</td>\n",
       "      <td>Yeliashev</td>\n",
       "      <td>ymcardelloz@wikimedia.org</td>\n",
       "      <td>97.175.171.237</td>\n",
       "      <td>9.99</td>\n",
       "      <td>20.0</td>\n",
       "    </tr>\n",
       "    <tr>\n",
       "      <th>Morocco</th>\n",
       "      <td>992</td>\n",
       "      <td>03/29/2021</td>\n",
       "      <td>Wandis</td>\n",
       "      <td>Torrisi</td>\n",
       "      <td>wmaccoughen81@so-net.ne.jp</td>\n",
       "      <td>96.17.174.67</td>\n",
       "      <td>9.60</td>\n",
       "      <td>20.0</td>\n",
       "    </tr>\n",
       "    <tr>\n",
       "      <th>United States</th>\n",
       "      <td>999</td>\n",
       "      <td>03/30/2021</td>\n",
       "      <td>Zach</td>\n",
       "      <td>Yurivtsev</td>\n",
       "      <td>zwannell7h@ox.ac.uk</td>\n",
       "      <td>97.6.33.184</td>\n",
       "      <td>9.98</td>\n",
       "      <td>20.0</td>\n",
       "    </tr>\n",
       "  </tbody>\n",
       "</table>\n",
       "</div>"
      ],
      "text/plain": [
       "                       id        date first_name  last_name  \\\n",
       "gender country                                                \n",
       "Female Canada         972  03/30/2021     Zilvia     Wybrow   \n",
       "       France         996  03/30/2021        Zoe   von Hagt   \n",
       "       Morocco        904  03/29/2021     Willis       Yude   \n",
       "       United States  989  03/30/2021     Zuzana   Youngman   \n",
       "Male   Canada         979  03/30/2021       Wilt      Yeend   \n",
       "       France         994  03/30/2021    Yalonda  Yeliashev   \n",
       "       Morocco        992  03/29/2021     Wandis    Torrisi   \n",
       "       United States  999  03/30/2021       Zach  Yurivtsev   \n",
       "\n",
       "                                           email      ip_address  price_paid  \\\n",
       "gender country                                                                 \n",
       "Female Canada                zneichomq@topsy.com    97.53.66.219        9.99   \n",
       "       France           zwhitefoot3y@cbsnews.com   98.20.144.185       10.00   \n",
       "       Morocco            wsandercroft4o@loc.gov     98.223.40.3       10.00   \n",
       "       United States       zhuebnerjj@forbes.com    96.89.102.85        9.97   \n",
       "Male   Canada                   wyeendc9@umn.edu  97.225.165.142        9.97   \n",
       "       France          ymcardelloz@wikimedia.org  97.175.171.237        9.99   \n",
       "       Morocco        wmaccoughen81@so-net.ne.jp    96.17.174.67        9.60   \n",
       "       United States         zwannell7h@ox.ac.uk     97.6.33.184        9.98   \n",
       "\n",
       "                       tax  \n",
       "gender country              \n",
       "Female Canada         20.0  \n",
       "       France         20.0  \n",
       "       Morocco        20.0  \n",
       "       United States  20.0  \n",
       "Male   Canada         20.0  \n",
       "       France         20.0  \n",
       "       Morocco        20.0  \n",
       "       United States  20.0  "
      ]
     },
     "execution_count": 103,
     "metadata": {},
     "output_type": "execute_result"
    }
   ],
   "source": [
    "df.groupby(['gender','country']).max()"
   ]
  },
  {
   "cell_type": "code",
   "execution_count": null,
   "id": "089b0246-7052-476a-9187-6e85109a4069",
   "metadata": {},
   "outputs": [],
   "source": [
    "#visualisations des donneés"
   ]
  },
  {
   "cell_type": "code",
   "execution_count": 121,
   "id": "b4c19153-58e8-4fd9-9c10-40f727ec6e05",
   "metadata": {},
   "outputs": [
    {
     "data": {
      "text/plain": [
       "<Axes: xlabel='date'>"
      ]
     },
     "execution_count": 121,
     "metadata": {},
     "output_type": "execute_result"
    },
    {
     "data": {
      "image/png": "[encoded data removed]",
      "text/plain": [
       "<Figure size 1000x400 with 1 Axes>"
      ]
     },
     "metadata": {},
     "output_type": "display_data"
    }
   ],
   "source": [
    "df.groupby('date')['price_paid'].sum().plot(figsize=[10,4])"
   ]
  },
  {
   "cell_type": "code",
   "execution_count": 125,
   "id": "e007bddd-23e6-453c-af6d-53247f8d7a79",
   "metadata": {},
   "outputs": [
    {
     "data": {
      "text/plain": [
       "<Axes: ylabel='price_paid'>"
      ]
     },
     "execution_count": 125,
     "metadata": {},
     "output_type": "execute_result"
    },
    {
     "data": {
      "image/png": "[encoded data removed]",
      "text/plain": [
       "<Figure size 640x480 with 1 Axes>"
      ]
     },
     "metadata": {},
     "output_type": "display_data"
    }
   ],
   "source": [
    "df.groupby('gender')['price_paid'].sum().plot.pie(legend=True)"
   ]
  },
  {
   "cell_type": "code",
   "execution_count": 136,
   "id": "cc6c68f0-0357-48dd-95ef-0a93e52a0575",
   "metadata": {},
   "outputs": [
    {
     "data": {
      "text/plain": [
       "<Axes: xlabel='gender,country'>"
      ]
     },
     "execution_count": 136,
     "metadata": {},
     "output_type": "execute_result"
    },
    {
     "data": {
      "image/png": "[encoded data removed]",
      "text/plain": [
       "<Figure size 640x480 with 1 Axes>"
      ]
     },
     "metadata": {},
     "output_type": "display_data"
    }
   ],
   "source": [
    "df.groupby(['gender','country']).sum().plot.bar(legend=True)"
   ]
  },
  {
   "cell_type": "code",
   "execution_count": 137,
   "id": "e2d37952-6645-4572-91ef-d308ef20dfd2",
   "metadata": {},
   "outputs": [
    {
     "data": {
      "text/plain": [
       "<Axes: xlabel='country'>"
      ]
     },
     "execution_count": 137,
     "metadata": {},
     "output_type": "execute_result"
    },
    {
     "data": {
      "image/png": "[encoded data removed]",
      "text/plain": [
       "<Figure size 640x480 with 1 Axes>"
      ]
     },
     "metadata": {},
     "output_type": "display_data"
    }
   ],
   "source": [
    "df.groupby('country')['price_paid'].sum().plot.bar(rot=10, legend=True)"
   ]
  },
  {
   "cell_type": "code",
   "execution_count": null,
   "id": "e7284a70-cad4-42d7-b0bf-55b861cadf31",
   "metadata": {},
   "outputs": [],
   "source": []
  },
  {
   "cell_type": "code",
   "execution_count": null,
   "id": "377d25c9-cac2-4b68-8bad-a904a65de7b9",
   "metadata": {},
   "outputs": [],
   "source": []
  },
  {
   "cell_type": "code",
   "execution_count": null,
   "id": "db6db4bc-881c-4557-a310-883da4622b0f",
   "metadata": {},
   "outputs": [],
   "source": []
  }
 ],
 "metadata": {
  "kernelspec": {
   "display_name": "Python 3 (ipykernel)",
   "language": "python",
   "name": "python3"
  },
  "language_info": {
   "codemirror_mode": {
    "name": "ipython",
    "version": 3
   },
   "file_extension": ".py",
   "mimetype": "text/x-python",
   "name": "python",
   "nbconvert_exporter": "python",
   "pygments_lexer": "ipython3",
   "version": "3.11.5"
  }
 },
 "nbformat": 4,
 "nbformat_minor": 5
}
